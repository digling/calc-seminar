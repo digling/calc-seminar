{
 "cells": [
  {
   "cell_type": "markdown",
   "metadata": {},
   "source": [
    "# Using Phylogenies in Computational Historical Linguistics (Tiago Tresoldi, Mei-Shin Wu, and Nathanael E. Schweikhard)\n",
    "\n",
    "\n",
    "\n",
    "\n"
   ]
  },
  {
   "cell_type": "markdown",
   "metadata": {},
   "source": [
    "## 1. Introduction\n",
    "\n",
    "### 1.1 Inner and Outer Language History\n",
    "The origins of phylogenetics go back to the 19th century and its principles have not changed much since. Among the less well-known early linguists there is Georg von der Gabelentz (1840-1893). His characterization from 1891 of the questions that phylogenetic reconstruction wants to answer may still hold true:\n",
    "> * Are languages A and B related and to what degree?\n",
    "> * Does this word or word form exist in that language or at that time of language history?\n",
    "> * How is it pronounced there?\n",
    "> * What kinds of rules can be found in the sound differences?\n",
    "> * Is it a native or a loan word?\n",
    "> * Which words belong to the original lexicon, which have been added later?\n",
    ">\n",
    "> (Gabelentz 1891: 145: translation by NES)\n",
    "\n",
    "He therefore distinguishes between \"outer and inner language history\", with the former being \"the history of its spacial and temporal spreading, of its branchings and possible interminglings - in other words, its genealogy\", the latter \"shows and tries to explain how the language slowly changed in regards to meaning and form\" (ibid 146: translation by NES). But even when restricted to the outer language history there still are differences in how people interpreted the answers to these questions as can be seen also in the various approaches to visualizing the results.\n",
    "\n",
    "### 1.2 Trees, Waves, and Nets\n",
    "\n",
    "#### Trees\n",
    "\n",
    "This first phylogenetic tree for the Slavic languages by František Čelakovský (1799-1852) was published in 1853, shortly before August Schleier published his tree model theory in the same year:\n",
    "\n",
    "![alt text](img/S14.1.png)\n",
    "\n",
    "> The length of lines implies time depth, their distance the degree of relationship. (Schleicher 1861: 6: translation by NES)\n",
    "\n",
    "#### Waves\n",
    "\n",
    "Not long after Schleicher's publishing of his tree model, there was opposition among Indo-Europeanists and language historians. Most famous is the wave theory by Johannes Schmidt (1843-1901) who described the relationships between the Indo-European languages in \"the image of a wave spreading in concentric circles that grow weaker and weaker the farther away they are from the center\" and as \"a plane tilted in one direct line from Sanskrit to Celtic\" (Schmidt 1872: 27: translation by NES). He did so in order to account for Lithuanian words that share characteristics both from German and Indo-Iranian cognates (cf. ibid: 26).\n",
    "\n",
    "#### Nets and Other Kinds of Entanglements\n",
    "\n",
    "The biggest problem of Schmidt's wave theory was that nobody knew exactly how to illustrate outer language history schematically in it. And therefore many different approaches to visualize wave theory can be found.\n",
    "\n",
    "![alt text](img/S14.2.png)\n",
    "\n",
    "### 1.3 A Matter of Perspective\n",
    "\n",
    "One basic difference between the tree and the wave model lies in their different goals: Wave theory is oriented towards an epistemological perspective on outer language history whereas tree theory is oriented towards an ontological perspective on it. In other words, waves describe what we would like to know, trees what we can know. That is why Schmidt opposed the tree model on the grounds of the impossibility of representing the facts with it:\n",
    "\n",
    "> Twist it how you will, as long as you insist on the opinion that historical languages came to be by multiple offshoots from the original language, i. e. as long as you believe in a tree model of Indo-European languages, you will never be able to explain all the facts in question scientifically.\n",
    "> \n",
    "> (Schmidt 1872: 17: translation by NES)\n",
    "\n",
    "The facts he refers to here are mainly lists of roots shared among different Indo-European languages (cognates in the broadest sense). The problem with these facts is however that they themselves depend on the state of research. If you for example compare Schmidt's number of roots shared among Greek, Old Indian and Latin with the number by Nicholaev (2007), you will notice that the closeness between Latin and Greek suggested by Schmidt's data does not seem that pronounced anymore considering Nicholaev's data. The same holds true for the very small similarities between Old Indian and Latin in Schmidt's data:\n",
    "\n",
    "![alt text](img/S14.3.png)\n",
    "\n",
    "### 1.4 Not Seeing the Tree for the Waves...\n",
    "\n",
    "Computer-assisted methods for phylogenetic reconstruction still have their problems, but those are not always caused by the methods being merely aimed at the detection of trees, thereby being based on the wrong model, as is often assumed. Instead also the opposite problem can occur of treelike processes disguising themselves as being not treelike. In biology, this phenomenon is called incomplete lineage sorting:\n",
    "\n",
    "> Incomplete lineage sorting occurs when an ancestral species undergoes several speciation events in a short period of time. If, for a given gene, the ancestral polymorphism is not fully resolved into two monophyletic lineages when the second speciation occurs, then with some probability the gene tree will be diﬀerent from the species tree.\n",
    "> (Galtier and Daubin 2008: 4023)\n",
    "\n",
    "Below you see examples of how polymorphism works in linguistics:\n",
    "\n",
    "![alt text](img/S14.3.png)\n",
    "\n",
    "Image A and B illustrate how replacements (e.g. new words replacing old ones) at different points in time help inform us about the genealogic relationship of languages. In C it is demonstrated that the reality of the situation might be more complicated than a simple tree can show due to competing word forms existing in the same language simultaneously.\n",
    "In image D to F you can see the same for the phenomenon of paradigmatic leveling which may be applied in different directions in different branches."
   ]
  },
  {
   "cell_type": "markdown",
   "metadata": {},
   "source": [
    "## 2. Inferring Phylogenies\n"
   ]
  },
  {
   "cell_type": "markdown",
   "metadata": {},
   "source": [
    "### 2.1 UPGMA and Neighbor-joining tree\n",
    "\n",
    "#### 2.1.1 UPGMA \n",
    "UPGMA is the abbreviation of Unweighted Pair Group Method with Arithmetic Mean. This algorithm assumes a constant evolution rate, which is not always true in a real world scenario. If two species have shortest distance between them, then these two species are considered as last two diverge and joined with a common ancestor. \n",
    "\n",
    "See the following example : \n",
    "\n",
    "|   | A | B | C | D |\n",
    "|---|---|---|---|---|\n",
    "| A | 0 | 2 | 3 | 4 |\n",
    "| B | 2 | 0 | 5 | 6 |\n",
    "| C | 3 | 5 | 0 | 7 |\n",
    "| D | 4 | 6 | 7 | 0 |\n",
    "\n",
    "The distance between A and B is the shortest among all of the other pairs. So A and B will be joined the first. And then thus the matrix will be reduced to 3X3. Iterate the above process until the last pairs. \n",
    "The result will be :\n",
    "<img src=\"img/UPGMA-toyexample.png\" width=\"200\" height=\"200\">\n",
    "\n",
    "#### 2.1.2 Neighbor-joining tree\n",
    "The goal of neighbor-joining tree algorithm is to find the shortest total branch length. It starts from a star-like shape and starts to find the \"neighbors\", which means two nodes only have one common node.\n",
    "\n",
    "The same example may result in different tree \n",
    "<img src=\"img/NJ-toyexample.png\" width=\"200\" height=\"200\">\n"
   ]
  },
  {
   "cell_type": "markdown",
   "metadata": {},
   "source": [
    "### 2.2 Distance matrix based phylogeny anaylsis via LingPy\n",
    "\n",
    "This section shows our audience how to draw a non-Bayesian phylogeny by using LingPy."
   ]
  },
  {
   "cell_type": "code",
   "execution_count": 1,
   "metadata": {},
   "outputs": [
    {
     "name": "stderr",
     "output_type": "stream",
     "text": [
      "2018-07-09 15:49:13,517 [INFO] Successfully calculated tree.\n",
      "2018-07-09 15:49:13,519 [INFO] Successfully calculated tree.\n"
     ]
    },
    {
     "name": "stdout",
     "output_type": "stream",
     "text": [
      "Neigjbor-joining tree\n",
      "                                        /-Hawaiian\n",
      "                              /edge.1--|\n",
      "                             |         |          /-Mangareva\n",
      "                             |          \\edge.0--|\n",
      "                    /edge.4--|                    \\-North_Marquesan\n",
      "                   |         |\n",
      "                   |         |          /-Rapanui\n",
      "                   |          \\edge.3--|\n",
      "          /edge.5--|                   |          /-Sikaiana\n",
      "         |         |                    \\edge.2--|\n",
      "         |         |                              \\-Tuamotuan\n",
      "-root----|         |\n",
      "         |          \\-Maori\n",
      "         |\n",
      "         |          /-Ra’ivavae\n",
      "          \\edge.7--|\n",
      "                   |          /-Rurutuan\n",
      "                    \\edge.6--|\n",
      "                              \\-Tahitian\n",
      "UPGMA tree\n",
      "                    /-Sikaiana\n",
      "          /edge.5--|\n",
      "         |         |          /-Maori\n",
      "         |          \\edge.4--|\n",
      "         |                   |          /-Rapanui\n",
      "         |                    \\edge.3--|\n",
      "         |                             |          /-Hawaiian\n",
      "         |                              \\edge.2--|\n",
      "-root----|                                       |          /-Mangareva\n",
      "         |                                        \\edge.1--|\n",
      "         |                                                 |          /-North_Marquesan\n",
      "         |                                                  \\edge.0--|\n",
      "         |                                                            \\-Tuamotuan\n",
      "         |\n",
      "         |          /-Ra’ivavae\n",
      "          \\edge.7--|\n",
      "                   |          /-Rurutuan\n",
      "                    \\edge.6--|\n",
      "                              \\-Tahitian\n"
     ]
    }
   ],
   "source": [
    "from lingpy import * \n",
    "\n",
    "# import data\n",
    "wl=Wordlist('../data/S08-computed.tsv')\n",
    "\n",
    "# NJ= neighbor\n",
    "mytree=Tree(wl.get_tree(tree_calc='neighbor',force=True))\n",
    "print('Neigjbor-joining tree')\n",
    "print(mytree.asciiArt())\n",
    "print('UPGMA tree')\n",
    "# UPGMA= upgma\n",
    "mytreeupgma=Tree(wl.get_tree(tree_calc='upgma',force=True))\n",
    "print(mytreeupgma.asciiArt())"
   ]
  },
  {
   "cell_type": "markdown",
   "metadata": {},
   "source": [
    "#### LingPy can output the distance matrix and tree files from wordlist, too."
   ]
  },
  {
   "cell_type": "code",
   "execution_count": 2,
   "metadata": {},
   "outputs": [
    {
     "name": "stderr",
     "output_type": "stream",
     "text": [
      "2018-07-09 15:49:13,524 [INFO] Data has been written to file <../data/S14-distanceoutput.dst>.\n",
      "2018-07-09 15:49:13,526 [INFO] Data has been written to file <../data/S14-njtree.tre>.\n",
      "2018-07-09 15:49:13,527 [INFO] Data has been written to file <../data/S14-upgmatree.tre>.\n"
     ]
    }
   ],
   "source": [
    "# distance matrix \n",
    "wl.output('dst', filename='../data/S14-distanceoutput',taxa='DOCULECT', ref='COGID',prettify=False)\n",
    "\n",
    "# NJ= neighbor\n",
    "wl.output('tre',filename='../data/S14-njtree',taxa='DOCULECT',ref='COGID', tree_calc='neighbor')\n",
    "\n",
    "# UPGMA= upgma\n",
    "wl.output('tre',filename='../data/S14-upgmatree',taxa='DOCULECT', ref='COGID', tree_calc='upgma')"
   ]
  },
  {
   "cell_type": "markdown",
   "metadata": {},
   "source": [
    "#### LingPy can output nexus file for further Bayesian phylogenetic analysis."
   ]
  },
  {
   "cell_type": "code",
   "execution_count": 3,
   "metadata": {},
   "outputs": [
    {
     "name": "stderr",
     "output_type": "stream",
     "text": [
      "2018-07-09 15:49:13,564 [INFO] Data has been written to file <../data/S14-pap.paps.nex>.\n"
     ]
    }
   ],
   "source": [
    "wl.output('paps.nex',filename='../data/S14-pap', taxa='DOCULECT', ref='COGID')\n"
   ]
  },
  {
   "cell_type": "code",
   "execution_count": null,
   "metadata": {},
   "outputs": [],
   "source": []
  }
 ],
 "metadata": {
  "kernelspec": {
   "display_name": "Python 3",
   "language": "python",
   "name": "python3"
  },
  "language_info": {
   "codemirror_mode": {
    "name": "ipython",
    "version": 3
   },
   "file_extension": ".py",
   "mimetype": "text/x-python",
   "name": "python",
   "nbconvert_exporter": "python",
   "pygments_lexer": "ipython3",
   "version": "3.5.2"
  }
 },
 "nbformat": 4,
 "nbformat_minor": 2
}
