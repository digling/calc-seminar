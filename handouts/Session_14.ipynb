{
 "cells": [
  {
   "cell_type": "markdown",
   "metadata": {},
   "source": [
    "# Using Phylogenies in Computational Historical Linguistics (Tiago Tresoldi, Mei-Shin Wu, and Nathanael E. Schweikhard)\n",
    "\n",
    "\n",
    "\n",
    "\n"
   ]
  },
  {
   "cell_type": "markdown",
   "metadata": {},
   "source": [
    "## 1. Introduction\n",
    "\n",
    "### 1.1 Inner and Outer Language History\n",
    "The origins of phylogenetics go back to the 19th century and its principles have not changed much since. Among the less well-known early linguists there is Georg von der Gabelentz (1840-1893). His characterization from 1891 of the questions that phylogenetic reconstruction wants to answer may still hold true:\n",
    "> * Are languages A and B related and to what degree?\n",
    "> * Does this word or word form exist in that language or at that time of language history?\n",
    "> * How is it pronounced there?\n",
    "> * What kinds of rules can be found in the sound differences?\n",
    "> * Is it a native or a loan word?\n",
    "> * Which words belong to the original lexicon, which have been added later?\n",
    ">\n",
    "> (Gabelentz 1891: 145: translation by NES)\n",
    "\n",
    "He therefore distinguishes between \"outer and inner language history\", with the former being \"the history of its spacial and temporal spreading, of its branchings and possible interminglings - in other words, its genealogy\", the latter \"shows and tries to explain how the language slowly changed in regards to meaning and form\" (ibid 146: translation by NES). But even when restricted to the outer language history there still are differences in how people interpreted the answers to these questions as can be seen also in the various approaches to visualizing the results.\n",
    "\n",
    "### 1.2 Trees, Waves, and Nets\n",
    "\n",
    "#### Trees\n",
    "\n",
    "This first phylogenetic tree for the Slavic languages by František Čelakovský (1799-1852) was published in 1853, shortly before August Schleier published his tree model theory in the same year:\n",
    "\n",
    "![alt text](img/S14.1.png)\n",
    "\n",
    "> The length of lines implies time depth, their distance the degree of relationship. (Schleicher 1861: 6: translation by NES)\n",
    "\n",
    "#### Waves\n",
    "\n",
    "Not long after Schleicher's publishing of his tree model, there was opposition among Indo-Europeanists and language historians. Most famous is the wave theory by Johannes Schmidt (1843-1901) who described the relationships between the Indo-European languages in \"the image of a wave spreading in concentric circles that grow weaker and weaker the farther away they are from the center\" and as \"a plane tilted in one direct line from Sanskrit to Celtic\" (Schmidt 1872: 27: translation by NES). He did so in order to account for Lithuanian words that share characteristics both from German and Indo-Iranian cognates (cf. ibid: 26).\n",
    "\n",
    "#### Nets and Other Kinds of Entanglements\n",
    "\n",
    "The biggest problem of Schmidt's wave theory was that nobody knew exactly how to illustrate outer language history schematically in it. And therefore many different approaches to visualize wave theory can be found.\n",
    "\n",
    "![alt text](img/S14.2.png)\n",
    "\n",
    "### 1.3 A Matter of Perspective\n",
    "\n",
    "One basic difference between the tree and the wave model lies in their different goals: Wave theory is oriented towards an epistemological perspective on outer language history whereas tree theory is oriented towards an ontological perspective on it. In other words, waves describe what we would like to know, trees what we can know. That is why Schmidt opposed the tree model on the grounds of the impossibility of representing the facts with it:\n",
    "\n",
    "> Twist it how you will, as long as you insist on the opinion that historical languages came to be by multiple offshoots from the original language, i. e. as long as you believe in a tree model of Indo-European languages, you will never be able to explain all the facts in question scientifically.\n",
    "> \n",
    "> (Schmidt 1872: 17: translation by NES)\n",
    "\n",
    "The facts he refers to here are mainly lists of roots shared among different Indo-European languages (cognates in the broadest sense). The problem with these facts is however that they themselves depend on the state of research. If you for example compare Schmidt's number of roots shared among Greek, Old Indian and Latin with the number by Nicholaev (2007), you will notice that the closeness between Latin and Greek suggested by Schmidt's data does not seem that pronounced anymore considering Nicholaev's data. The same holds true for the very small similarities between Old Indian and Latin in Schmidt's data:\n",
    "\n",
    "![alt text](img/S14.3.png)\n",
    "\n",
    "### 1.4 Not Seeing the Tree for the Waves...\n",
    "\n",
    "Computer-assisted methods for phylogenetic reconstruction still have their problems, but those are not always caused by the methods being merely aimed at the detection of trees, thereby being based on the wrong model, as is often assumed. Instead also the opposite problem can occur of treelike processes disguising themselves as being not treelike. In biology, this phenomenon is called incomplete lineage sorting:\n",
    "\n",
    "> Incomplete lineage sorting occurs when an ancestral species undergoes several speciation events in a short period of time. If, for a given gene, the ancestral polymorphism is not fully resolved into two monophyletic lineages when the second speciation occurs, then with some probability the gene tree will be diﬀerent from the species tree.\n",
    "> (Galtier and Daubin 2008: 4023)\n",
    "\n",
    "Below you see examples of how polymorphism works in linguistics:\n",
    "\n",
    "![alt text](img/S14.3.png)\n",
    "\n",
    "Image A and B illustrate how replacements (e.g. new words replacing old ones) at different points in time help inform us about the genealogic relationship of languages. In C it is demonstrated that the reality of the situation might be more complicated than a simple tree can show due to competing word forms existing in the same language simultaneously.\n",
    "In image D to F you can see the same for the phenomenon of paradigmatic leveling which may be applied in different directions in different branches."
   ]
  },
  {
   "cell_type": "markdown",
   "metadata": {},
   "source": [
    "## 2. Inferring Phylogenies\n"
   ]
  },
  {
   "cell_type": "markdown",
   "metadata": {},
   "source": [
    "### 2.1 UPGMA and Neighbor-joining tree\n",
    "\n",
    "#### 2.1.1 UPGMA \n",
    "UPGMA is the abbreviation of Unweighted Pair Group Method with Arithmetic Mean. This algorithm assumes a constant evolution rate, which is not always true in a real world scenario. If two species have shortest distance between them, then these two species are considered as last two diverge and joined with a common ancestor. \n",
    "\n",
    "See the following example : \n",
    "\n",
    "|   | A | B | C | D |\n",
    "|---|---|---|---|---|\n",
    "| A | 0 | 2 | 3 | 4 |\n",
    "| B | 2 | 0 | 5 | 6 |\n",
    "| C | 3 | 5 | 0 | 7 |\n",
    "| D | 4 | 6 | 7 | 0 |\n",
    "\n",
    "The distance between A and B is the shortest among all of the other pairs. So A and B will be joined the first. And then thus the matrix will be reduced to 3X3. Iterate the above process until the last pairs. \n",
    "The result will be :\n",
    "<img src=\"img/UPGMA-toyexample.png\" width=\"200\" height=\"200\">\n",
    "\n",
    "#### 2.1.2 Neighbor-joining tree\n",
    "The goal of neighbor-joining tree algorithm is to find the shortest total branch length. It starts from a star-like shape and starts to find the \"neighbors\", which means two nodes only have one common node.\n",
    "\n",
    "The same example may result in different tree \n",
    "<img src=\"img/NJ-toyexample.png\" width=\"200\" height=\"200\">\n"
   ]
  },
  {
   "cell_type": "markdown",
   "metadata": {},
   "source": [
    "### 2.2 Distance matrix based phylogeny anaylsis via LingPy\n",
    "\n",
    "This section shows our audience how to draw a non-Bayesian phylogeny by using LingPy."
   ]
  },
  {
   "cell_type": "code",
   "execution_count": 1,
   "metadata": {},
   "outputs": [
    {
     "name": "stderr",
     "output_type": "stream",
     "text": [
      "2018-07-10 12:24:05,799 [INFO] Successfully calculated tree.\n"
     ]
    },
    {
     "name": "stdout",
     "output_type": "stream",
     "text": [
      "Neigjbor-joining tree\n",
      "                                        /-Hawaiian\n",
      "                              /edge.1--|\n",
      "                             |         |          /-Mangareva\n",
      "                             |          \\edge.0--|\n",
      "                    /edge.4--|                    \\-North_Marquesan\n",
      "                   |         |\n",
      "                   |         |          /-Rapanui\n",
      "                   |          \\edge.3--|\n",
      "          /edge.5--|                   |          /-Sikaiana\n",
      "         |         |                    \\edge.2--|\n",
      "         |         |                              \\-Tuamotuan\n",
      "-root----|         |\n",
      "         |          \\-Maori\n",
      "         |\n",
      "         |          /-Ra’ivavae\n",
      "          \\edge.7--|\n",
      "                   |          /-Rurutuan\n",
      "                    \\edge.6--|\n",
      "                              \\-Tahitian\n",
      "UPGMA tree\n"
     ]
    },
    {
     "name": "stderr",
     "output_type": "stream",
     "text": [
      "2018-07-10 12:24:05,803 [INFO] Successfully calculated tree.\n"
     ]
    },
    {
     "name": "stdout",
     "output_type": "stream",
     "text": [
      "                    /-Sikaiana\n",
      "          /edge.5--|\n",
      "         |         |          /-Maori\n",
      "         |          \\edge.4--|\n",
      "         |                   |          /-Rapanui\n",
      "         |                    \\edge.3--|\n",
      "         |                             |          /-Hawaiian\n",
      "         |                              \\edge.2--|\n",
      "-root----|                                       |          /-Mangareva\n",
      "         |                                        \\edge.1--|\n",
      "         |                                                 |          /-North_Marquesan\n",
      "         |                                                  \\edge.0--|\n",
      "         |                                                            \\-Tuamotuan\n",
      "         |\n",
      "         |          /-Ra’ivavae\n",
      "          \\edge.7--|\n",
      "                   |          /-Rurutuan\n",
      "                    \\edge.6--|\n",
      "                              \\-Tahitian\n"
     ]
    }
   ],
   "source": [
    "from lingpy import * \n",
    "\n",
    "# import data\n",
    "wl=Wordlist('../data/S08-computed.tsv')\n",
    "\n",
    "# NJ= neighbor\n",
    "mytree=Tree(wl.get_tree(tree_calc='neighbor',force=True))\n",
    "print('Neigjbor-joining tree')\n",
    "print(mytree.asciiArt())\n",
    "print('UPGMA tree')\n",
    "# UPGMA= upgma\n",
    "mytreeupgma=Tree(wl.get_tree(tree_calc='upgma',force=True))\n",
    "print(mytreeupgma.asciiArt())"
   ]
  },
  {
   "cell_type": "markdown",
   "metadata": {},
   "source": [
    "#### LingPy can output the distance matrix and tree files from wordlist, too."
   ]
  },
  {
   "cell_type": "code",
   "execution_count": 2,
   "metadata": {},
   "outputs": [
    {
     "name": "stderr",
     "output_type": "stream",
     "text": [
      "2018-07-10 12:24:05,813 [INFO] Data has been written to file <../data/S14-distanceoutput.dst>.\n",
      "2018-07-10 12:24:05,815 [INFO] Data has been written to file <../data/S14-njtree.tre>.\n",
      "2018-07-10 12:24:05,817 [INFO] Data has been written to file <../data/S14-upgmatree.tre>.\n"
     ]
    }
   ],
   "source": [
    "# distance matrix \n",
    "wl.output('dst', filename='../data/S14-distanceoutput',taxa='DOCULECT', ref='COGID',prettify=False)\n",
    "\n",
    "# NJ= neighbor\n",
    "wl.output('tre',filename='../data/S14-njtree',taxa='DOCULECT',ref='COGID', tree_calc='neighbor')\n",
    "\n",
    "# UPGMA= upgma\n",
    "wl.output('tre',filename='../data/S14-upgmatree',taxa='DOCULECT', ref='COGID', tree_calc='upgma')"
   ]
  },
  {
   "cell_type": "markdown",
   "metadata": {},
   "source": [
    "#### LingPy can output nexus file for further Bayesian phylogenetic analysis."
   ]
  },
  {
   "cell_type": "code",
   "execution_count": 3,
   "metadata": {},
   "outputs": [
    {
     "name": "stderr",
     "output_type": "stream",
     "text": [
      "2018-07-10 12:24:05,864 [INFO] Data has been written to file <../data/S14-pap.paps.nex>.\n"
     ]
    }
   ],
   "source": [
    "wl.output('paps.nex',filename='../data/S14-pap', taxa='DOCULECT', ref='COGID')\n"
   ]
  },
  {
   "cell_type": "markdown",
   "metadata": {},
   "source": [
    "## 3. Split graphs\n",
    "\n",
    "Besides trees, one type of graph that is finding its way in quantitative historical linguistics are split graphs. It is important to know how they are generated and how they should be interpreted. First, it is important to know that graphs that are apparently of the same time can be produced by different methods; in particular they can be \n",
    "\n",
    "> produced by distance-based network methods such as NeighborNet and Split Decomposition, by character-based methods such as Median Networks and Parsimony Splits, and by tree-based methods such as Consensus Networks and SuperNetworks. They are all interpreted in the same way[... :] An essential point to understand is that splits graphs are separation networks. That is, the edges in the graph represent separation between two clusters of nodes in the network; or, they split the graph in two. Formally, each edge represents a bipartition (or split) of the taxa based on one or more characteristics. If there is no conflict in the data then each bipartition is represented by a single edge, and if there are contradictory patterns then the each bipartition is represented by a set of parallel edges. The edge lengths represent the relative amount of support in the whole dataset for each of the splits. [from David Morrison's http://phylonetworks.blogspot.com/2012/08/how-to-interpret-splits-graphs.html]\n",
    "\n",
    "Morrison (2012) offers a primer using data \"about opinion polls prior to a few Australian elections\", comparing the \"Actual\" results of the elections to four different polls: Morgan (from Roy Morgan Research), Saulwick (from Saulwick Poll), McNair (from McNair Survey), and Other (from a pool of polls). The network resulting from this simple data, where a distance is calculated for the actual and the predicted result, is the following:\n",
    "\n",
    "![auspolls](img/AusPolls.gif)\n",
    "\n",
    "As explained by Morrison (2012), the network has \"five informative splits (bipartitions), each represented by a different set of parallel edges[; the] remaining five splits are simply shown as the single edges leading to each of the five sources of data\". The informative bipartitions in order of decreasing support and with the weight of support are:\n",
    "\n",
    "| Partition | Group 1                | Group 2                | Weight |\n",
    "|-----------|------------------------|------------------------|--------|\n",
    "| #1        | Actual Morgan Other    | McNair Saulwick        | 0.813  |\n",
    "| #2        | Actual Morgan Saulwick | McNair Other           | 0.649  |\n",
    "| #3        | Actual Morgan          | McNair Other Saulwick  | 0.493  |\n",
    "| #4        | Actual Other           | McNair Morgan Saulwick | 0.486  |\n",
    "| #5        | Actual McNair Other    | Morgan Saulwick        | 0.188  |\n",
    "\n",
    "Which can be represented graphically as such:\n",
    "\n",
    "![split1](img/AusPolls_split1.gif)\n",
    "![split2](img/AusPolls_split2.gif)\n",
    "![split3](img/AusPolls_split3.gif)\n",
    "![split4](img/AusPolls_split4.gif)\n",
    "![split5](img/AusPolls_split5.gif)\n",
    "\n",
    "Distances can be computed as such:\n",
    "\n",
    "![distance](img/AusPolls_distance.gif)\n",
    "\n",
    "As per Morrison (2012), the pathlengths\n",
    "\n",
    "> can also be used to evaluate the relative success of the opinion polls. That is, the network pathlength distance from Actual to Morgan is the shortest, which we can interpret as indicating that Roy Morgan Research was the most \"successful\" of the four opinion polls. That is, its predictions were the \"least different\" from the actual election results, across all of the elections.\n",
    "\n",
    "This should make it easier to interpret language split graphs. Let's discuss a famous one, from Grey et al. (2010):\n",
    "\n",
    "![network](img/Language-network.jpg)\n",
    "\n",
    "This by Sean Roberts:\n",
    "\n",
    "![game](img/language_game.png)"
   ]
  },
  {
   "cell_type": "markdown",
   "metadata": {},
   "source": [
    "## 3. Reception and Limitations\n",
    "\n",
    "The reception of quantitative methods in historical linguistics, particularly of phylogenetic methods, has not been unanimously positive. The most known response has probably been the book \"The Indo-European Controversy - Facts and Fallacies in Historical Linguistics\" by Asya Pereltsvaig and Martin W. Lewis (2015), which focuses on the papers by Grey et al. on the Heimat of the Indo-Europeans, a somewhat scathing review of the work by experts that might focus too much on the reception of that research by the big media. Another known criticism is one by Roger Blench (2015) and, in general, we can say that most scholars who are not directly dealing with quantitative methods remain a bit skeptic, although more and more optimistic.\n",
    "\n",
    "Some of the resistance is due to a general skepticism in terms of quantitative research in fields traditionally reserved for humanities, in part caused by the arrogant behavior of some fields which believe that century-old questions could be solved with some quick and dirty algorithms combined with statistical approximations. In historical linguistics, a traditional resistance to quantitative linguistics is also at play: while mathematical methods in the field go at least back to Dumont d'Urville in the 1830s, quantitative methods are still strongly associated with Swadesh's work, whose lexicostatistics is nowadays mostly taken as a \"first look\" that only explain what is known, and whose glottochronology is better left unspoken. Alternative takes such as Greenberg and Starostin, while more grounded, are mostly regarded as not mainstream, in part due to their defense of supra-families, such as Notrastic, to which historical linguists in general either take an agnostic point-of-view or reduce to chance resemblance. As such, specialist in key phyla, such as Indo-European and Austronesian, have been very slowly, if at all, accepting some of the insights from quantitative methods; ironically, sometimes the authors of the datasets and cognancy judgments used explicitly reject the phylogenetic results.\n",
    "\n",
    "Objections tend to also be raised due to the fact that only recently (at most in the last ten years) this kind of research has started to appear in solid linguistic journals: most of the findings are still being published in general scientific publications (even though reliable ones, such as \"Nature\" or \"Science\") or in \"hard science\" (mostly statistics) outlets instead of peer-reviewed linguistic journals. The skepticism of traditional historical linguists, while in some cases might be just an expression of anti-quantitative or even neo-Luddite feelings, is generally well-grounded and must be considered by us. Among the objections we find:\n",
    "\n",
    "- That the value of the findings cannot be assessed\n",
    "- That the results and especially the inner-workings are difficult to interpret and, thus, to question\n",
    "- That it is not clear how results and methods could be improved\n",
    "- That is not being scientific in the sense of being reproducible and falsifiable\n",
    "- That the judgment tend to be based only on lexical cognancy, i.e., the subjective assessment that two lexemes share an ancestor, something which is hard to apply to other areas such as phonology, morphology, and syntax (also because such areas are assumed to be less resistant to change)\n",
    "- That automatic judgment of cognancy is not on par with expert level, and that experts are more likely to detect morphological components and issues such as corrupted data\n",
    "- That phylogenetic methods operate on shared retentions and, especially, shared innovations, which would not be proved to be good predictions in language history as they are in biology\n",
    "- That the assumption that rates of change are comparable is not proved, and there is more evidence on the contrary\n",
    "- The assumption that cognancy based in inheritance can be reliably distinguished from that based on borrowing, especially among related languages\n",
    "- That we cannot assume that all languages necessarily diversity according to arborescent or starburst-like structures, which means that visualizations can be misleading\n",
    "- The fact that the systems would not be ready to deal with known phenomena such as Wanderwörter\n",
    "\n",
    "Let's discuss each point.\n",
    "\n",
    "Blench (2015) even says that they are not subject to the \"same critical gaze\" of traditional historical linguistics and that there is a parallel with generative analysis in the sense that they are \"impossible to falsify\". Cognancy judgements are particularly questioned, because they are assumed to be mostly correct (and, especially, that the assumptions on transmission and evolution hold), that it is possible to distinguish from borrowings, that each language is somewhat closed (i.e., that it is, in fact, a taxa), that relationships can be expressed by splits which are, at the very lowest level, binary, etc. The problem is differences in cognate judgment among different authors is generally considered particularly strong, as the trees would only reproduce the tree assumed when the cognates are judged (not to mention that we found differences in the same author, and Blench always remembers Hal Fleming, who famously said that it is easier to find cognates after a good lunch).\n",
    "\n",
    "While we discuss such limitations, we must keep in mind that, in the end, historical linguistics, in general, is based on subjective evaluations, sometimes stemming from circular reasoning, that operate, even when not admittedly, on probabilities. If basic components of the data for quantitative methods are inherently subjective and based in intuition, such as cognancy judgements, we could actually say that the simple fact that the methods require machine-readable data, and even more in our approach where the data must also be human-readable and open, makes in this aspect the computational methods more transparent and replicable than traditional. We don't usually get to observe the starting point and the steps of traditional historical linguistics, and even worse, they are sometimes kept as precious treasures of their \"owners\". Even the fact that the data is usually collected by a set of specialist, analyzed by a different set of specialists, and evaluated by yet another set is a part of a collaboration that is still lacking in the field of \"lone wolves\".\n",
    "\n",
    "That said, we want to thank you all for your participation and hope that what we covered will help you to take part in this new wave of research in historical linguistics. See you around! ```:)```"
   ]
  }
 ],
 "metadata": {
  "kernelspec": {
   "display_name": "Python 3",
   "language": "python",
   "name": "python3"
  },
  "language_info": {
   "codemirror_mode": {
    "name": "ipython",
    "version": 3
   },
   "file_extension": ".py",
   "mimetype": "text/x-python",
   "name": "python",
   "nbconvert_exporter": "python",
   "pygments_lexer": "ipython3",
   "version": "3.5.2"
  }
 },
 "nbformat": 4,
 "nbformat_minor": 2
}
